{
 "cells": [
  {
   "cell_type": "markdown",
   "id": "be532e36-787a-49ce-9fb0-66f29c359c45",
   "metadata": {},
   "source": [
    "# Hello Spark\n",
    "Demonstration based on the [Spark Quick Start](https://spark.apache.org/docs/latest/quick-start.html)"
   ]
  },
  {
   "cell_type": "markdown",
   "id": "23802ec5-981f-49c8-8bea-54a45beaa1f3",
   "metadata": {},
   "source": [
    "# Create a Spark Session\n",
    "The SparkSession object is our connection to the Spark Context Manager running on the spark-master host.\n",
    "\n",
    "There are a few important details in the setting up of the SparkSession:\n",
    "1. The `appName` is what shows up in the \"Running Apps\" section of http://localhost:8080/ -- It'll move to \"Completed Apps\" once we call `.stop()` on this session.\n",
    "2. The `master` tells it where to our Spark config-manager so we can launch spark-applications from this session.\n",
    "3. The `spark.sql.warehouse.dir` tells it where to find our Hive tables.\n"
   ]
  },
  {
   "cell_type": "code",
   "execution_count": 1,
   "id": "b822c3f8-4f90-4f7e-8834-2e994d5fd7ad",
   "metadata": {},
   "outputs": [
    {
     "name": "stdout",
     "output_type": "stream",
     "text": [
      "Requirement already satisfied: pip in /usr/local/lib/python3.10/dist-packages (23.3.1)\n",
      "\u001b[33mWARNING: Running pip as the 'root' user can result in broken permissions and conflicting behaviour with the system package manager. It is recommended to use a virtual environment instead: https://pip.pypa.io/warnings/venv\u001b[0m\u001b[33m\n",
      "\u001b[0m"
     ]
    }
   ],
   "source": [
    "!python3 -m pip install --upgrade pip"
   ]
  },
  {
   "cell_type": "code",
   "execution_count": 6,
   "id": "a4a35f24-f93d-44fe-b430-cd42f9ce3c86",
   "metadata": {},
   "outputs": [
    {
     "name": "stdout",
     "output_type": "stream",
     "text": [
      "Collecting numpy\n",
      "  Downloading numpy-1.26.2-cp310-cp310-manylinux_2_17_aarch64.manylinux2014_aarch64.whl.metadata (62 kB)\n",
      "\u001b[2K     \u001b[90m━━━━━━━━━━━━━━━━━━━━━━━━━━━━━━━━━━━━━━━━\u001b[0m \u001b[32m62.7/62.7 kB\u001b[0m \u001b[31m2.1 MB/s\u001b[0m eta \u001b[36m0:00:00\u001b[0m\n",
      "\u001b[?25hDownloading numpy-1.26.2-cp310-cp310-manylinux_2_17_aarch64.manylinux2014_aarch64.whl (14.2 MB)\n",
      "\u001b[2K   \u001b[90m━━━━━━━━━━━━━━━━━━━━━━━━━━━━━━━━━━━━━━━━\u001b[0m \u001b[32m14.2/14.2 MB\u001b[0m \u001b[31m15.0 MB/s\u001b[0m eta \u001b[36m0:00:00\u001b[0m00:01\u001b[0m00:01\u001b[0m\n",
      "\u001b[?25hInstalling collected packages: numpy\n",
      "Successfully installed numpy-1.26.2\n",
      "\u001b[33mWARNING: Running pip as the 'root' user can result in broken permissions and conflicting behaviour with the system package manager. It is recommended to use a virtual environment instead: https://pip.pypa.io/warnings/venv\u001b[0m\u001b[33m\n",
      "\u001b[0m"
     ]
    }
   ],
   "source": [
    "!pip install numpy"
   ]
  },
  {
   "cell_type": "code",
   "execution_count": 1,
   "id": "c96de8a0-0b9e-4a3b-bc83-75ac4d1ee0af",
   "metadata": {
    "tags": []
   },
   "outputs": [],
   "source": [
    "from pyspark.sql import SparkSession\n",
    "import os, json, time\n",
    "from pyspark.sql.functions import col, concat_ws, collect_list, lower, regexp_replace, udf, lit\n",
    "from pyspark.ml.feature import Tokenizer, StopWordsRemover, HashingTF, IDF, CountVectorizer, NGram\n",
    "from pyspark.sql.types import ArrayType, DoubleType\n",
    "from pyspark.ml.linalg import SparseVector, DenseVector\n",
    "from pyspark.sql.types import StructType, StructField, StringType, Row\n",
    "from pyspark.mllib.feature import HashingTF"
   ]
  },
  {
   "cell_type": "code",
   "execution_count": 2,
   "id": "fd38c959-3f57-4456-83a1-e6e571ce1319",
   "metadata": {
    "tags": []
   },
   "outputs": [
    {
     "name": "stderr",
     "output_type": "stream",
     "text": [
      "Setting default log level to \"WARN\".\n",
      "To adjust logging level use sc.setLogLevel(newLevel). For SparkR, use setLogLevel(newLevel).\n",
      "23/12/15 19:25:36 WARN NativeCodeLoader: Unable to load native-hadoop library for your platform... using builtin-java classes where applicable\n"
     ]
    }
   ],
   "source": [
    "spark_session = SparkSession.builder \\\n",
    "        .appName(\"TF-IDF Calculator\") \\\n",
    "        .master(\"spark://spark-master:7077\") \\\n",
    "        .config(\"spark.executor.instances\", 1) \\\n",
    "        .config(\"spark.cores.max\", 2) \\\n",
    "        .config(\"spark.sql.warehouse.dir\", \"/opt/warehouse/\") \\\n",
    "        .getOrCreate()"
   ]
  },
  {
   "cell_type": "code",
   "execution_count": 4,
   "id": "0b8a88fc-2c98-4cbb-8132-674643531884",
   "metadata": {},
   "outputs": [],
   "source": [
    "spark_session.stop()"
   ]
  },
  {
   "cell_type": "markdown",
   "id": "f16d2f19-11dc-4d6f-8d85-6dc23b6751ad",
   "metadata": {},
   "source": [
    "# Word Count\n",
    "This is a very basic hello-world to make sure the we can run a little PySpark:"
   ]
  },
  {
   "cell_type": "markdown",
   "id": "a0230c4e-b8dc-4197-89e6-05b52cb1cef6",
   "metadata": {},
   "source": [
    "### Get Some Sample Data\n",
    "We pull Shakespeare's \"As You Like It\" from Project Gutenberg, and write it to `/opt/data`.  This is mounted to our `fileshare` volume which is mounted on this docker container as well as all of the spark-containers (master and worker(s)).  "
   ]
  },
  {
   "cell_type": "code",
   "execution_count": 7,
   "id": "9a25e3f3-5e3c-44bc-8a22-ca97896da3dd",
   "metadata": {
    "tags": []
   },
   "outputs": [
    {
     "ename": "FileNotFoundError",
     "evalue": "[Errno 2] No such file or directory: '/opt/data/as-you-like-it.txt'",
     "output_type": "error",
     "traceback": [
      "\u001b[0;31m---------------------------------------------------------------------------\u001b[0m",
      "\u001b[0;31mFileNotFoundError\u001b[0m                         Traceback (most recent call last)",
      "Cell \u001b[0;32mIn[7], line 3\u001b[0m\n\u001b[1;32m      1\u001b[0m \u001b[38;5;28;01mimport\u001b[39;00m \u001b[38;5;21;01mrequests\u001b[39;00m\n\u001b[1;32m      2\u001b[0m resp \u001b[38;5;241m=\u001b[39m requests\u001b[38;5;241m.\u001b[39mget(\u001b[38;5;124m'\u001b[39m\u001b[38;5;124mhttps://www.gutenberg.org/cache/epub/1121/pg1121.txt\u001b[39m\u001b[38;5;124m'\u001b[39m)\n\u001b[0;32m----> 3\u001b[0m \u001b[38;5;28;01mwith\u001b[39;00m \u001b[38;5;28;43mopen\u001b[39;49m\u001b[43m(\u001b[49m\u001b[38;5;124;43m'\u001b[39;49m\u001b[38;5;124;43m/opt/data/as-you-like-it.txt\u001b[39;49m\u001b[38;5;124;43m'\u001b[39;49m\u001b[43m,\u001b[49m\u001b[38;5;124;43m'\u001b[39;49m\u001b[38;5;124;43mw\u001b[39;49m\u001b[38;5;124;43m'\u001b[39;49m\u001b[43m)\u001b[49m\u001b[38;5;28;01mas\u001b[39;00m fp:\n\u001b[1;32m      4\u001b[0m     fp\u001b[38;5;241m.\u001b[39mwrite(resp\u001b[38;5;241m.\u001b[39mtext)\n",
      "File \u001b[0;32m/usr/local/lib/python3.10/dist-packages/IPython/core/interactiveshell.py:310\u001b[0m, in \u001b[0;36m_modified_open\u001b[0;34m(file, *args, **kwargs)\u001b[0m\n\u001b[1;32m    303\u001b[0m \u001b[38;5;28;01mif\u001b[39;00m file \u001b[38;5;129;01min\u001b[39;00m {\u001b[38;5;241m0\u001b[39m, \u001b[38;5;241m1\u001b[39m, \u001b[38;5;241m2\u001b[39m}:\n\u001b[1;32m    304\u001b[0m     \u001b[38;5;28;01mraise\u001b[39;00m \u001b[38;5;167;01mValueError\u001b[39;00m(\n\u001b[1;32m    305\u001b[0m         \u001b[38;5;124mf\u001b[39m\u001b[38;5;124m\"\u001b[39m\u001b[38;5;124mIPython won\u001b[39m\u001b[38;5;124m'\u001b[39m\u001b[38;5;124mt let you open fd=\u001b[39m\u001b[38;5;132;01m{\u001b[39;00mfile\u001b[38;5;132;01m}\u001b[39;00m\u001b[38;5;124m by default \u001b[39m\u001b[38;5;124m\"\u001b[39m\n\u001b[1;32m    306\u001b[0m         \u001b[38;5;124m\"\u001b[39m\u001b[38;5;124mas it is likely to crash IPython. If you know what you are doing, \u001b[39m\u001b[38;5;124m\"\u001b[39m\n\u001b[1;32m    307\u001b[0m         \u001b[38;5;124m\"\u001b[39m\u001b[38;5;124myou can use builtins\u001b[39m\u001b[38;5;124m'\u001b[39m\u001b[38;5;124m open.\u001b[39m\u001b[38;5;124m\"\u001b[39m\n\u001b[1;32m    308\u001b[0m     )\n\u001b[0;32m--> 310\u001b[0m \u001b[38;5;28;01mreturn\u001b[39;00m \u001b[43mio_open\u001b[49m\u001b[43m(\u001b[49m\u001b[43mfile\u001b[49m\u001b[43m,\u001b[49m\u001b[43m \u001b[49m\u001b[38;5;241;43m*\u001b[39;49m\u001b[43margs\u001b[49m\u001b[43m,\u001b[49m\u001b[43m \u001b[49m\u001b[38;5;241;43m*\u001b[39;49m\u001b[38;5;241;43m*\u001b[39;49m\u001b[43mkwargs\u001b[49m\u001b[43m)\u001b[49m\n",
      "\u001b[0;31mFileNotFoundError\u001b[0m: [Errno 2] No such file or directory: '/opt/data/as-you-like-it.txt'"
     ]
    }
   ],
   "source": [
    "import requests\n",
    "resp = requests.get('https://www.gutenberg.org/cache/epub/1121/pg1121.txt')\n",
    "with open('/opt/data/as-you-like-it.txt','w')as fp:\n",
    "    fp.write(resp.text)\n"
   ]
  },
  {
   "cell_type": "code",
   "execution_count": 13,
   "id": "0fd8b419-3ea7-499b-8110-7e2acde23b13",
   "metadata": {
    "tags": []
   },
   "outputs": [
    {
     "name": "stdout",
     "output_type": "stream",
     "text": [
      "timeline_20231215193817.json  timeline_20231215193918.json\n",
      "timeline_20231215193818.json  timeline_20231215193949.json\n",
      "timeline_20231215193848.json\n"
     ]
    }
   ],
   "source": [
    "ls /opt/datalake"
   ]
  },
  {
   "cell_type": "code",
   "execution_count": 21,
   "id": "870b2d5e-8aa7-4df1-ada3-26ae95a0e295",
   "metadata": {},
   "outputs": [
    {
     "name": "stdout",
     "output_type": "stream",
     "text": [
      "part-00000-4458dc11-8d43-412b-ab59-debe5b9a7707-c000.snappy.parquet  _SUCCESS\n"
     ]
    }
   ],
   "source": [
    "# !ls /opt/warehouse\n",
    "!ls /opt/warehouse/wordcounts.parquet"
   ]
  },
  {
   "cell_type": "markdown",
   "id": "f844aaaa-7434-41dc-afae-e830d74e9848",
   "metadata": {},
   "source": [
    "### Perform word-count on Spark"
   ]
  },
  {
   "cell_type": "code",
   "execution_count": 12,
   "id": "510dc8d4-1653-4c61-99b8-913f3657a38a",
   "metadata": {
    "tags": []
   },
   "outputs": [
    {
     "name": "stdout",
     "output_type": "stream",
     "text": [
      "+------------------+------------------+--------------------------------------------------------------------------------------------------------------------------------------------------------------------------------------------------------------------------------------------------------------------------------------------------------------------------------------------------------------------------------------------------------------------------------------------------------------------------------------------------------------------------------------------------------------------------------------------------------------------------------------------------------------------------------------------------------------------------------------------------------------------------------------------------------------------------------------------------------------------------------------------------------------------------------------------------------------------------------------------------------------------------------------------------------------------------------------------------------------------------------------------------------------------------------------------------------------------------------------------------------------------------------------------------------------------------------------------------------------------------------------------------------------------------------------------------------------------------------------------------------------------------------------------------------------------------------------------------------------------------------------------------------------------------------------------------------------------------------------------------------------------------------------------------------------------------------------------------------------------------------------------------------------------------------------------------------------------------------------------------------------------------------------------------------------------------------------------------------------------------------------------+----------------------------------------------------------------------------------------------------------------------------------------------------------------------------------------------------------------------------------------------------------------------------------------------------------------+\n",
      "|user_id           |username          |filtered_words                                                                                                                                                                                                                                                                                                                                                                                                                                                                                                                                                                                                                                                                                                                                                                                                                                                                                                                                                                                                                                                                                                                                                                                                                                                                                                                                                                                                                                                                                                                                                                                                                                                                                                                                                                                                                                                                                                                                                                                                                                                                                                                              |features                                                                                                                                                                                                                                                                                                        |\n",
      "+------------------+------------------+--------------------------------------------------------------------------------------------------------------------------------------------------------------------------------------------------------------------------------------------------------------------------------------------------------------------------------------------------------------------------------------------------------------------------------------------------------------------------------------------------------------------------------------------------------------------------------------------------------------------------------------------------------------------------------------------------------------------------------------------------------------------------------------------------------------------------------------------------------------------------------------------------------------------------------------------------------------------------------------------------------------------------------------------------------------------------------------------------------------------------------------------------------------------------------------------------------------------------------------------------------------------------------------------------------------------------------------------------------------------------------------------------------------------------------------------------------------------------------------------------------------------------------------------------------------------------------------------------------------------------------------------------------------------------------------------------------------------------------------------------------------------------------------------------------------------------------------------------------------------------------------------------------------------------------------------------------------------------------------------------------------------------------------------------------------------------------------------------------------------------------------------+----------------------------------------------------------------------------------------------------------------------------------------------------------------------------------------------------------------------------------------------------------------------------------------------------------------+\n",
      "|109394043880370547|celesteh          |[pjudeochristian, , even, oncep]                                                                                                                                                                                                                                                                                                                                                                                                                                                                                                                                                                                                                                                                                                                                                                                                                                                                                                                                                                                                                                                                                                                                                                                                                                                                                                                                                                                                                                                                                                                                                                                                                                                                                                                                                                                                                                                                                                                                                                                                                                                                                                            |(24,[7],[1.4350845252893227])                                                                                                                                                                                                                                                                                   |\n",
      "|109549354744875371|exador23          |[phuh, , neat, , learned, cws, post, specificppie, although, reply, content, warned, post, automatically, include, cw, , turn, cw, doesnt, apply, replyppand, click, timestamp, reply, show, whole, thread, , cw, still, intact, post, applies, top]                                                                                                                                                                                                                                                                                                                                                                                                                                                                                                                                                                                                                                                                                                                                                                                                                                                                                                                                                                                                                                                                                                                                                                                                                                                                                                                                                                                                                                                                                                                                                                                                                                                                                                                                                                                                                                                                                        |(24,[7,19],[5.740338101157291,1.9459101490553132])                                                                                                                                                                                                                                                              |\n",
      "|111252229034552189|FediThing         |[pon, totally, different, note, ive, started, new, account, span, classhcarda, hrefhttpssocialgrowyourownserviceslooseends, classuurl, mention, relnofollow, noopener, noreferrer, target_blankspanlooseendsspanaspan, mysteries, involve, supernatural, conspiracy, theories, generally, try, steer, clear, murders, crime, tooppfollow, like, p]                                                                                                                                                                                                                                                                                                                                                                                                                                                                                                                                                                                                                                                                                                                                                                                                                                                                                                                                                                                                                                                                                                                                                                                                                                                                                                                                                                                                                                                                                                                                                                                                                                                                                                                                                                                          |(24,[0,1,2,11,13,14,16,17],[0.27193371548364176,0.27193371548364176,0.27193371548364176,1.9459101490553132,1.9459101490553132,1.9459101490553132,1.9459101490553132,1.9459101490553132])                                                                                                                        |\n",
      "|109287400986875046|speedpasterobot   |[ps, p, l, e, rppa, hrefhttpsmstdnsocialtagscomix, classmention, hashtag, relnofollow, noopener, noreferrer, target_blankspancomixspana, hrefhttpsmstdnsocialtagscomics, classmention, hashtag, relnofollow, noopener, noreferrer, target_blankspancomicsspana, hrefhttpsmstdnsocialtagscomicbooks, classmention, hashtag, relnofollow, noopener, noreferrer, target_blankspancomicbooksspana, hrefhttpsmstdnsocialtagssketchbook, classmention, hashtag, relnofollow, noopener, noreferrer, target_blankspansketchbookspana, hrefhttpsmstdnsocialtagsdrawing, classmention, hashtag, relnofollow, noopener, noreferrer, target_blankspandrawingspana, hrefhttpsmstdnsocialtagsriffs, classmention, hashtag, relnofollow, noopener, noreferrer, target_blankspanriffsspanap]                                                                                                                                                                                                                                                                                                                                                                                                                                                                                                                                                                                                                                                                                                                                                                                                                                                                                                                                                                                                                                                                                                                                                                                                                                                                                                                                                                |(24,[0,1,2,3,4,17],[1.6316022929018505,1.6316022929018505,1.6316022929018505,6.591673732008657,6.591673732008657,1.9459101490553132])                                                                                                                                                                           |\n",
      "|110083372196612652|footiebuzz        |[pphotos, jack, grealish, books, entire, nandos, restaurant, christmas, partybra, hrefhttpscityxtracouk8183photosjackgrealishbooksoutentirenandosrestaurantforchristmasparty, relnofollow, noopener, noreferrer, translateno, target_blankspan, classinvisiblehttpsspanspan, classellipsiscityxtracouk8183photosjacspanspan, classinvisiblekgrealishbooksoutentirenandosrestaurantforchristmaspartyspanap]                                                                                                                                                                                                                                                                                                                                                                                                                                                                                                                                                                                                                                                                                                                                                                                                                                                                                                                                                                                                                                                                                                                                                                                                                                                                                                                                                                                                                                                                                                                                                                                                                                                                                                                                  |(24,[0,1,2,5,6,9],[0.27193371548364176,0.27193371548364176,0.27193371548364176,0.4054651081081644,0.7419373447293773,1.0986122886681096])                                                                                                                                                                       |\n",
      "|109298586425721696|hspmauli          |[pso, wie, mit, dem, behindertenparkausweis, ist, es, auch, mit, dem, schlssel, fr, behindertentoilettenppes, gilt, nicht, nur, fr, rollstuhlfahrer, auch, wenn, stets, ein, rollstuhlsymbol, als, schild, dran, hngtbra, hrefhttpswwwnordkurierderegionaluckermarktoilettenschluesselfuerbehinderte2126592, relnofollow, noopener, noreferrer, target_blankspan, classinvisiblehttpswwwspanspan, classellipsisnordkurierderegionaluckermaspanspan, classinvisiblerktoilettenschluesselfuerbehinderte2126592spanap]                                                                                                                                                                                                                                                                                                                                                                                                                                                                                                                                                                                                                                                                                                                                                                                                                                                                                                                                                                                                                                                                                                                                                                                                                                                                                                                                                                                                                                                                                                                                                                                                                         |(24,[0,1,2,5,8],[0.27193371548364176,0.27193371548364176,0.27193371548364176,0.4054651081081644,0.965080896043587])                                                                                                                                                                                             |\n",
      "|111389851741557455|houstonpublicmedia|[price, university, president, reginald, desroches, statement, week, clarified, universitys, stance, antisemitism, rice, university, students, said, response, university, continually, failed, condemn, ongoing, genocide, palestinian, people, gazappa, hrefhttpswwwhoustonpublicmediaorgarticleseducation20231215472517riceuniversitypresidentcondemnsantisemiticspeechaftercongressionalhearingdrawsbacklashofsomeuniversityofficials, relnofollow, noopener, noreferrer, translateno, target_blankspan, classinvisiblehttpswwwspanspan, classellipsishoustonpublicmediaorgarticlespanspan, classinvisibleseducation20231215472517riceuniversitypresidentcondemnsantisemiticspeechaftercongressionalhearingdrawsbacklashofsomeuniversityofficialsspanappa, hrefhttpsmastodonsocialtagseducation, classmention, hashtag, relnofollow, noopener, noreferrer, target_blankspaneducationspana, hrefhttpsmastodonsocialtagsnational, classmention, hashtag, relnofollow, noopener, noreferrer, target_blankspannationalspana, hrefhttpsmastodonsocialtagsnews, classmention, hashtag, relnofollow, noopener, noreferrer, target_blankspannewsspana, hrefhttpsmastodonsocialtagsisraelhamaswar, classmention, hashtag, relnofollow, noopener, noreferrer, target_blankspanisraelhamaswarspana, hrefhttpsmastodonsocialtagsriceuniversity, classmention, hashtag, relnofollow, noopener, noreferrer, target_blankspanriceuniversityspana, hrefhttpsmastodonsocialtagsriceuniversitypresidentreginalddesroches, classmention, hashtag, relnofollow, noopener, noreferrer, target_blankspanriceuniversitypresidentreginalddesrochesspana, hrefhttpsmastodonsocialtagsstudentorganization, classmention, hashtag, relnofollow, noopener, noreferrer, target_blankspanstudentorganizationspanap]                                                                                                                                                                                                                                                                                                                                                   |(24,[0,1,2,3,4,5,6,8,20,21],[2.175469723869134,2.175469723869134,2.175469723869134,7.690286020676767,7.690286020676767,0.4054651081081644,0.7419373447293773,0.965080896043587,1.9459101490553132,1.9459101490553132])                                                                                          |\n",
      "|110676962366126541|Dragofix          |[pmaking, fossil, fuel, companies, accountable, products, emissions, support, clean, energy, transition, hrefhttpsveganismsocialtagsenergy, classmention, hashtag, relnofollow, noopener, noreferrer, target_blankspanenergyspana, hrefhttpsveganismsocialtagsfossilfuel, classmention, hashtag, relnofollow, noopener, noreferrer, target_blankspanfossilfuelspana, hrefhttpsveganismsocialtagsfossilfuels, classmention, hashtag, relnofollow, noopener, noreferrer, target_blankspanfossilfuelsspana, hrefhttpsveganismsocialtagsemissions, classmention, hashtag, relnofollow, noopener, noreferrer, target_blankspanemissionsspana, hrefhttpsphysorgnews202312fossilfuelcompaniesaccountableproductshtml, relnofollow, noopener, noreferrer, translateno, target_blankspan, classinvisiblehttpsspanspan, classellipsisphysorgnews202312fossilfspanspan, classinvisibleuelcompaniesaccountableproductshtmlspanap]                                                                                                                                                                                                                                                                                                                                                                                                                                                                                                                                                                                                                                                                                                                                                                                                                                                                                                                                                                                                                                                                                                                                                                                                                       |(24,[0,1,2,3,4,5,6,9],[1.359668577418209,1.359668577418209,1.359668577418209,4.394449154672438,4.394449154672438,0.4054651081081644,0.7419373447293773,1.0986122886681096])                                                                                                                                     |\n",
      "|109837685648383101|CherokeeSher      |[pohio, abortion, clinics, ask, judge, block, abortion, ban, permanentlybra, hrefhttpswwwaolcomohioabortionclinicsaskjudge164700204html, relnofollow, noopener, noreferrer, translateno, target_blankspan, classinvisiblehttpswwwspanspan, classellipsisaolcomohioabortionclinicsspanspan, classinvisibleaskjudge164700204htmlspanappohio, abortion, clinics, asking, judge, strike, states, ban, abortions, voters, approved, issue, 1, novemberp]                                                                                                                                                                                                                                                                                                                                                                                                                                                                                                                                                                                                                                                                                                                                                                                                                                                                                                                                                                                                                                                                                                                                                                                                                                                                                                                                                                                                                                                                                                                                                                                                                                                                                         |(24,[0,1,2,5,6,8],[0.27193371548364176,0.27193371548364176,0.27193371548364176,0.4054651081081644,0.7419373447293773,0.965080896043587])                                                                                                                                                                        |\n",
      "|109865534793503681|CBCNews           |[phouthi, attacks, ships, red, sea, escalating, options, stop, limitedppattacks, ships, around, narrow, mouth, red, sea, increasing, yemens, houthi, militia, group, makes, good, warning, disrupt, global, trade, diplomatic, military, experts, say, may, little, anyone, hrefhttpspresscooptagspress, classmention, hashtag, relnofollow, noopener, noreferrer, target_blankspanpressspanappa, hrefhttpswwwcbccanewsworldhouthiattacksonshipsintheredseaareescalatingtheoptionstostopthemarelimited17060673cmprssamputm_sourcepresscoop, relnofollow, noopener, noreferrer, target_blankspan, classinvisiblehttpswwwspanspan, classellipsiscbccanewsworldhouthiattacspanspan, classinvisibleksonshipsintheredseaareescalatingtheoptionstostopthemarelimited17060673cmprssamputm_sourcepresscoopspanap]                                                                                                                                                                                                                                                                                                                                                                                                                                                                                                                                                                                                                                                                                                                                                                                                                                                                                                                                                                                                                                                                                                                                                                                                                                                                                                                                   |(24,[0,1,2,3,4,5,8,12,15,22,23],[0.5438674309672835,0.5438674309672835,0.5438674309672835,1.0986122886681096,1.0986122886681096,0.4054651081081644,0.965080896043587,1.9459101490553132,1.9459101490553132,1.9459101490553132,1.9459101490553132])                                                              |\n",
      "|109311832476619039|mz4250            |[ptoday, spawn, ackyishigal, theyre, nasty, minion, demon, lord, made, earlier, week, ppfree, stls, , hrefhttpswwwpatreoncomposts94678036, relnofollow, noopener, noreferrer, translateno, target_blankspan, classinvisiblehttpswwwspanspan, classpatreoncomposts94678036spanspan, classinvisiblespanappthese, tome, beasts, amazing, span, classhcard, translatenoa, hrefhttpsmastodonsocialkoboldpress, classuurl, mention, relnofollow, noopener, noreferrer, target_blankspankoboldpressspanaspan, , love, book, bra, hrefhttpsdicecamptagsttrpg, classmention, hashtag, relnofollow, noopener, noreferrer, target_blankspanttrpgspana, hrefhttpsdicecamptags3dprinting, classmention, hashtag, relnofollow, noopener, noreferrer, target_blankspan3dprintingspana, hrefhttpsdicecamptags3dmodeling, classmention, hashtag, relnofollow, noopener, noreferrer, target_blankspan3dmodelingspana, hrefhttpsdicecamptags3dart, classmention, hashtag, relnofollow, noopener, noreferrer, target_blankspan3dartspanap]                                                                                                                                                                                                                                                                                                                                                                                                                                                                                                                                                                                                                                                                                                                                                                                                                                                                                                                                                                                                                                                                                                                      |(24,[0,1,2,3,4,5,6,7,8,13,14,16,18,20],[1.6316022929018505,1.6316022929018505,1.6316022929018505,4.394449154672438,4.394449154672438,0.4054651081081644,0.7419373447293773,2.8701690505786455,0.965080896043587,1.9459101490553132,1.9459101490553132,1.9459101490553132,1.9459101490553132,1.9459101490553132])|\n",
      "|109797156848088444|sanesecurity      |[pmirrors, updated, following, new, signatures, sanesecurityphishingfake30136badpdf, sanesecurityphishingfake30137badpdf, sanesecurityphishingfake30138badpdf, sanesecurityphishingfake30139badpdf, sanesecurityrogue0hr202312151934p]                                                                                                                                                                                                                                                                                                                                                                                                                                                                                                                                                                                                                                                                                                                                                                                                                                                                                                                                                                                                                                                                                                                                                                                                                                                                                                                                                                                                                                                                                                                                                                                                                                                                                                                                                                                                                                                                                                      |(24,[11],[1.9459101490553132])                                                                                                                                                                                                                                                                                  |\n",
      "|109323511487975069|drakakis          |[pthe, mystery, missing, binder, collection, raw, russian, intelligence, disappeared, trump, cnnppa, hrefhttpswwwcnncominteractive202312politicsmissingrussiaintelligencetrumpdg, relnofollow, noopener, noreferrer, translateno, target_blankspan, classinvisiblehttpswwwspanspan, classellipsiscnncominteractive202312pospanspan, classinvisibleliticsmissingrussiaintelligencetrumpdgspanappa, binder, containing, highly, classified, information, related, russian, election, interference, went, missing, end, donald, trumps, presidency, raising, alarms, among, intelligence, officialsp]                                                                                                                                                                                                                                                                                                                                                                                                                                                                                                                                                                                                                                                                                                                                                                                                                                                                                                                                                                                                                                                                                                                                                                                                                                                                                                                                                                                                                                                                                                                                          |(24,[0,1,2,5,6,8],[0.27193371548364176,0.27193371548364176,0.27193371548364176,0.4054651081081644,0.7419373447293773,0.965080896043587])                                                                                                                                                                        |\n",
      "|109286924730705750|eljefedsecurit    |[pbe, kind, home, machine, spirits, holiday, break, theyre, used, around, much, youre, workingp]                                                                                                                                                                                                                                                                                                                                                                                                                                                                                                                                                                                                                                                                                                                                                                                                                                                                                                                                                                                                                                                                                                                                                                                                                                                                                                                                                                                                                                                                                                                                                                                                                                                                                                                                                                                                                                                                                                                                                                                                                                            |(24,[18,22],[1.9459101490553132,1.9459101490553132])                                                                                                                                                                                                                                                            |\n",
      "|109346020827977586|DoctorWhoPN       |[pncuti, gatwa, says, infamous, line, netflixs, sex, educationbra, hrefhttpsyoutubeyrimp7bt95csisap1ft3amyinwrii, relnofollow, noopener, noreferrer, target_blankspan, classinvisiblehttpsspanspan, classellipsisyoutubeyrimp7bt95csisap1ftspanspan, classinvisible3amyinwriispanap]                                                                                                                                                                                                                                                                                                                                                                                                                                                                                                                                                                                                                                                                                                                                                                                                                                                                                                                                                                                                                                                                                                                                                                                                                                                                                                                                                                                                                                                                                                                                                                                                                                                                                                                                                                                                                                                        |(24,[0,1,2,5,9],[0.27193371548364176,0.27193371548364176,0.27193371548364176,0.4054651081081644,1.0986122886681096])                                                                                                                                                                                            |\n",
      "|109295303995756540|angiebaby         |[pa, hrefhttpsyoutubewlheswhrhvssipqsfchjomktwq0f2, relnofollow, noopener, noreferrer, translateno, target_blankspan, classinvisiblehttpsspanspan, classellipsisyoutubewlheswhrhvssipqsfchspanspan, classinvisiblejomktwq0f2spanap]                                                                                                                                                                                                                                                                                                                                                                                                                                                                                                                                                                                                                                                                                                                                                                                                                                                                                                                                                                                                                                                                                                                                                                                                                                                                                                                                                                                                                                                                                                                                                                                                                                                                                                                                                                                                                                                                                                         |(24,[0,1,2,5,6,9,10],[0.27193371548364176,0.27193371548364176,0.27193371548364176,0.4054651081081644,0.7419373447293773,1.0986122886681096,1.6582280766035324])                                                                                                                                                 |\n",
      "|109795872918005405|mlbtraderumors    |[pguardians, designate, alfonso, rivas, assignment, hrefhttpswwwmlbtraderumorscom202312guardiansdfaalfonsorivashtmlutm_sourcetwitter, relnofollow, noopener, noreferrer, target_blankspan, classinvisiblehttpsspanspan, classmlbtraderumorscom202312guardispanspan, classinvisiblespanap]                                                                                                                                                                                                                                                                                                                                                                                                                                                                                                                                                                                                                                                                                                                                                                                                                                                                                                                                                                                                                                                                                                                                                                                                                                                                                                                                                                                                                                                                                                                                                                                                                                                                                                                                                                                                                                                   |(24,[0,1,2,5,9],[0.27193371548364176,0.27193371548364176,0.27193371548364176,0.4054651081081644,1.0986122886681096])                                                                                                                                                                                            |\n",
      "|109319035351007239|raymierussell     |[pa, word, warningbrif, watchlisten, one, interpretation, classic, 80s, kid, show, theme, tune, performed, load, cellos, may, listen, allbra, hrefhttpswwwyoutubecomwatchvenexr58g4e, relnofollow, noopener, noreferrer, translateno, target_blankspan, classinvisiblehttpswwwspanspan, classellipsisyoutubecomwatchvenexr58g4spanspan, classinvisibleespanap]                                                                                                                                                                                                                                                                                                                                                                                                                                                                                                                                                                                                                                                                                                                                                                                                                                                                                                                                                                                                                                                                                                                                                                                                                                                                                                                                                                                                                                                                                                                                                                                                                                                                                                                                                                              |(24,[0,1,2,5,6,8,10,12,19],[0.27193371548364176,0.27193371548364176,0.27193371548364176,0.4054651081081644,0.7419373447293773,0.965080896043587,1.6582280766035324,1.9459101490553132,1.9459101490553132])                                                                                                      |\n",
      "|108205510687003621|SocraticEthics    |[pa, hrefhttpstmeliveukraine_media16316, relnofollow, noopener, noreferrer, translateno, target_blankspan, classinvisiblehttpsspanspan, classtmeliveukraine_media16316spanspan, classinvisiblespana, brthe, finnish, prosecutor, generals, office, initiated, preliminary, investigation, alleged, war, crimes, committed, ukraine, former, commander, neonazi, group, rusich, jan, petrovsky, preliminary, investigation, take, place, finland, court, banned, extradition, hrefhttpsmastodononlinetagsukraine, classmention, hashtag, relnofollow, noopener, noreferrer, target_blankspanukrainespana, hrefhttpsmastodononlinetagsfinland, classmention, hashtag, relnofollow, noopener, noreferrer, target_blankspanfinlandspana, hrefhttpsmastodononlinetagsslavaukraineslavaeu, classmention, hashtag, relnofollow, noopener, noreferrer, target_blankspanslavaukraineslavaeuspana, hrefhttpsmastodononlinetagseuropeanunion, classmention, hashtag, relnofollow, noopener, noreferrer, target_blankspaneuropeanunionspana, hrefhttpsmastodononlinetagspress, classmention, hashtag, relnofollow, noopener, noreferrer, target_blankspanpressspana, hrefhttpsmastodononlinetagsnews, classmention, hashtag, relnofollow, noopener, noreferrer, target_blankspannewsspana, hrefhttpsmastodononlinetagsrussia, classmention, hashtag, relnofollow, noopener, noreferrer, target_blankspanrussiaspana, hrefhttpsmastodononlinetagsrussiaukrainewar, classmention, hashtag, relnofollow, noopener, noreferrer, target_blankspanrussiaukrainewarspana, hrefhttpsmastodononlinetags9yrinvasionofukraine, classmention, hashtag, relnofollow, noopener, noreferrer, target_blankspan9yrinvasionofukrainespana, , hrefhttpsmastodononlinetagsboycottmusk, classmention, hashtag, relnofollow, noopener, noreferrer, target_blankspanboycottmuskspana, hrefhttpsmastodononlinetagsaxisofevil, classmention, hashtag, relnofollow, noopener, noreferrer, target_blankspanaxisofevilspanabra, hrefhttpsmastodononlinetagsnousrepublicans2024, classmention, hashtag, relnofollow, noopener, noreferrer, target_blankspannousrepublicans2024spanap]|(24,[0,1,2,3,4,5,6,7,9,10,21,23],[3.535138301287343,3.535138301287343,3.535138301287343,13.183347464017315,13.183347464017315,0.4054651081081644,0.7419373447293773,1.4350845252893227,1.0986122886681096,1.6582280766035324,1.9459101490553132,1.9459101490553132])                                            |\n",
      "|109266437777149507|D_J_Nathanson     |[pdepending, charge, good, reasons, answer, booking, questions, dont, lie, refuse, answerppaccused, drug, dealing, answering, occupation, truthfully, falsely, incriminate, youppaccused, identity, theft, providing, true, false, demographic, data, incriminate, wont, get, bail, convicting, words, worse, 3p]                                                                                                                                                                                                                                                                                                                                                                                                                                                                                                                                                                                                                                                                                                                                                                                                                                                                                                                                                                                                                                                                                                                                                                                                                                                                                                                                                                                                                                                                                                                                                                                                                                                                                                                                                                                                                           |(24,[15],[1.9459101490553132])                                                                                                                                                                                                                                                                                  |\n",
      "+------------------+------------------+--------------------------------------------------------------------------------------------------------------------------------------------------------------------------------------------------------------------------------------------------------------------------------------------------------------------------------------------------------------------------------------------------------------------------------------------------------------------------------------------------------------------------------------------------------------------------------------------------------------------------------------------------------------------------------------------------------------------------------------------------------------------------------------------------------------------------------------------------------------------------------------------------------------------------------------------------------------------------------------------------------------------------------------------------------------------------------------------------------------------------------------------------------------------------------------------------------------------------------------------------------------------------------------------------------------------------------------------------------------------------------------------------------------------------------------------------------------------------------------------------------------------------------------------------------------------------------------------------------------------------------------------------------------------------------------------------------------------------------------------------------------------------------------------------------------------------------------------------------------------------------------------------------------------------------------------------------------------------------------------------------------------------------------------------------------------------------------------------------------------------------------------+----------------------------------------------------------------------------------------------------------------------------------------------------------------------------------------------------------------------------------------------------------------------------------------------------------------+\n",
      "\n",
      "+------------------+--------------------------+-----------------------------------------------------------------------------------------------------------------------------------------------------------------------------------------------------------------------------------------------------------------------------------------------------------------------------------------------------------------------------------------------------------------------------------------------------------------------------------------------------------------------------------------------------------------------------------------------------------------------------------------------------------------------------------------------------------------------------------------------------------------------------------------------------------------------------------------------------------------------------------------------------------------------------------------------------------------------------------------------------------------------------------------------------------------------------------------------------------------------------------------------------------------------------------------------------------------------------------------------------------------+----------------------------------------------------------------------------------------------------------------------------------------------------------------------------------------------------------------------------------------------------------------------+\n",
      "|user_id           |username                  |filtered_words                                                                                                                                                                                                                                                                                                                                                                                                                                                                                                                                                                                                                                                                                                                                                                                                                                                                                                                                                                                                                                                                                                                                                                                                                                                   |features                                                                                                                                                                                                                                                              |\n",
      "+------------------+--------------------------+-----------------------------------------------------------------------------------------------------------------------------------------------------------------------------------------------------------------------------------------------------------------------------------------------------------------------------------------------------------------------------------------------------------------------------------------------------------------------------------------------------------------------------------------------------------------------------------------------------------------------------------------------------------------------------------------------------------------------------------------------------------------------------------------------------------------------------------------------------------------------------------------------------------------------------------------------------------------------------------------------------------------------------------------------------------------------------------------------------------------------------------------------------------------------------------------------------------------------------------------------------------------+----------------------------------------------------------------------------------------------------------------------------------------------------------------------------------------------------------------------------------------------------------------------+\n",
      "|109752065733715288|GraphicMatt               |[psome, trouble, explaining, byrequest, thing, disposable, cupsppholyday, makes, staff, roleplay, pretending, order, double, double, like, cup, staffer, saysppholyday, repeats, exercise, time, pretending, speaks, italianp]                                                                                                                                                                                                                                                                                                                                                                                                                                                                                                                                                                                                                                                                                                                                                                                                                                                                                                                                                                                                                                   |(19,[],[])                                                                                                                                                                                                                                                            |\n",
      "|109279573932990618|cryptonewsbot             |[parrest, warrant, issued, selfproclaimed, crypto, king, accomplice, 14, million, scam, , source, pixabaybra, judge, ontario, canada, issued, warrant, arrest, , , hrefhttpscryptonewscomnewsarrestwarrantissuedforselfproclaimedcryptokingaccomplicein14millionscamhtm, relnofollow, noopener, noreferrer, translateno, target_blankspan, classinvisiblehttpsspanspan, classellipsiscryptonewscomnewsarrestwarspanspan, classinvisiblerantissuedforselfproclaimedcryptokingaccomplicein14millionscamhtmspana, hrefhttpsschleussonlinetagsblockchainnews, classmention, hashtag, relnofollow, noopener, noreferrer, target_blankspanblockchainnewsspanap]                                                                                                                                                                                                                                                                                                                                                                                                                                                                                                                                                                                                        |(19,[0,1,2,3,4,5,6,7,8,16],[1.1192315758708453,1.1192315758708453,1.1192315758708453,0.6466271649250525,0.6466271649250525,3.2958368660043287,1.0986122886681096,1.0986122886681096,1.4350845252893227,1.9459101490553132])                                           |\n",
      "|109454609304460435|m3t00                     |[pa, hrefhttpsmstdnpartytagsmozilla, classmention, hashtag, relnofollow, noopener, noreferrer, target_blankspanmozillaspanasocial, hrefhttpsmstdnpartytagsmozilla, classmention, hashtag, relnofollow, noopener, noreferrer, target_blankspanmozillaspana, hrefhttpsmstdnpartytagsmastodon, classmention, hashtag, relnofollow, noopener, noreferrer, target_blankspanmastodonspanappfinally, got, invite, yay, mozillabrspan, classhcard, translatenoa, hrefhttpsmozillasocialm3too, classuurl, mention, relnofollow, noopener, noreferrer, target_blankspanm3toospanaspanp]                                                                                                                                                                                                                                                                                                                                                                                                                                                                                                                                                                                                                                                                                    |(19,[0,1,2,3,4,9],[2.2384631517416906,2.2384631517416906,2.2384631517416906,1.9398814947751575,1.9398814947751575,1.4350845252893227])                                                                                                                                |\n",
      "|110260076801340114|FawnOverFun               |[pok, well, fucking, fuck, guessppmy, sister, supposed, buy, groceries, day, decided, didnt, want, live, anymore, ok, whatever, fine, says, shell, send, money, get, oops, spent, car, insurance, get, fucking, cmon, manppnow, ask, luck, geriatric, money, cool, im, gonna, feel, sooooooo, good, thisp]                                                                                                                                                                                                                                                                                                                                                                                                                                                                                                                                                                                                                                                                                                                                                                                                                                                                                                                                                       |(19,[11,12,17,18],[3.8918202981106265,1.9459101490553132,1.9459101490553132,1.9459101490553132])                                                                                                                                                                      |\n",
      "|110767004871242180|50years_music             |[pa, change, gonna, come, bra, hrefhttpsmastodononlinetagssamcooke, classmention, hashtag, relnofollow, noopener, noreferrer, target_blankspansamcookespana, bra, hrefhttpsyoutubeweblamomkv4, relnofollow, noopener, noreferrer, translateno, target_blankspan, classinvisiblehttpsspanspan, classyoutubeweblamomkv4spanspan, classinvisiblespanap]                                                                                                                                                                                                                                                                                                                                                                                                                                                                                                                                                                                                                                                                                                                                                                                                                                                                                                             |(19,[0,1,2,3,4,6,7,8,9,10,12,15],[1.1192315758708453,1.1192315758708453,1.1192315758708453,0.6466271649250525,0.6466271649250525,1.0986122886681096,1.0986122886681096,1.4350845252893227,1.4350845252893227,3.316456153207065,1.9459101490553132,1.9459101490553132])|\n",
      "|108062113625108877|moznews                   |[ppssst, get, 20, relay, premium, end, year, , hrefhttpsrelayfirefoxcom, relnofollow, noopener, noreferrer, target_blankspan, classinvisiblehttpsspanspan, classrelayfirefoxcomspanspan, classinvisiblespanappa, hrefhttpsnocsocialtagsmozilla, classmention, hashtag, relnofollow, noopener, noreferrer, target_blankspanmozillaspanabroriginal, tweet, hrefhttpstwittercomfirefoxstatus1735741954540048603, relnofollow, noopener, noreferrer, target_blankspan, classinvisiblehttpsspanspan, classellipsistwittercomfirefoxstatus173spanspan, classinvisible5741954540048603spana, 15, dec, 2023, 2021, cetp]                                                                                                                                                                                                                                                                                                                                                                                                                                                                                                                                                                                                                                                 |(19,[0,1,2,3,4,5,6,7,11,13,14],[1.678847363806268,1.678847363806268,1.678847363806268,0.6466271649250525,0.6466271649250525,1.0986122886681096,2.197224577336219,2.197224577336219,1.9459101490553132,1.9459101490553132,1.9459101490553132])                         |\n",
      "|109344435886393730|mario                     |[pend, year, bashbra, hrefhttpsnekocattagsnowplaying, classmention, hashtag, relnofollow, noopener, noreferrer, target_blankspannowplayingspana, hrefhttpsnekocattagsdrums, classmention, hashtag, relnofollow, noopener, noreferrer, target_blankspandrumsspanap]                                                                                                                                                                                                                                                                                                                                                                                                                                                                                                                                                                                                                                                                                                                                                                                                                                                                                                                                                                                               |(19,[0,1,2,3,4,14],[1.1192315758708453,1.1192315758708453,1.1192315758708453,1.293254329850105,1.293254329850105,1.9459101490553132])                                                                                                                                 |\n",
      "|109256777873340501|irenebal                  |[pbij, de, beelden, van, het, pand, hrefhttpsmastodonsocialtagsvlaardingen, classmention, hashtag, relnofollow, noopener, noreferrer, target_blankspanvlaardingenspana, van, de, hrefhttpsmastodonsocialtagsloodgieter, classmention, hashtag, relnofollow, noopener, noreferrer, target_blankspanloodgieterspana, kantelt, mijn, beeld, een, reeks, mooie, jaren, dertig, panden, een, hoek, met, op, een, van, de, panden, het, uithangbord, loodgieters, met, een, lijkt, niet, op, een, een, tweepitter, maar, op, een, grootbedrijf, dat, , net, zoals, bij, glazenwassers, , de, markt, wil, beheersen, wat, het, ook, kost, en, ja, dan, maak, je, vijandenp]                                                                                                                                                                                                                                                                                                                                                                                                                                                                                                                                                                                             |(19,[0,1,2,3,4,5],[1.1192315758708453,1.1192315758708453,1.1192315758708453,1.293254329850105,1.293254329850105,2.197224577336219])                                                                                                                                   |\n",
      "|109451783343777806|onthisday                 |[ptoday, 2005, 18, years, ago, introduction, lockheed, martin, f22, raptor, usaf, active, serviceppa, hrefhttpsmastodonsocialtagsonthisday, classmention, hashtag, relnofollow, noopener, noreferrer, target_blankspanonthisdayspanap]                                                                                                                                                                                                                                                                                                                                                                                                                                                                                                                                                                                                                                                                                                                                                                                                                                                                                                                                                                                                                           |(19,[0,1,2,3,4],[0.5596157879354227,0.5596157879354227,0.5596157879354227,0.6466271649250525,0.6466271649250525])                                                                                                                                                     |\n",
      "|109958804224004143|MLB_News                  |[p2024, fantasy, baseball, sleepers, amp, busts, arizona, diamondbacks, bra, hrefhttpspitcherlistcom2024fantasybaseballsleepersbustsarizonadiamondbacks, relnofollow, noopener, noreferrer, target_blankspan, classinvisiblehttpsspanspan, classellipsispitcherlistcom2024fantasybspanspan, classinvisibleaseballsleepersbustsarizonadiamondbacksspanabra, hrefhttpsbotsinspacetagsmlb, classmention, hashtag, relnofollow, noopener, noreferrer, target_blankspanmlbspana, hrefhttpsbotsinspacetagsfantasybaseball, classmention, hashtag, relnofollow, noopener, noreferrer, target_blankspanfantasybaseballspana, hrefhttpsbotsinspacetagspitcherlist, classmention, hashtag, relnofollow, noopener, noreferrer, target_blankspanpitcherlistspanap]                                                                                                                                                                                                                                                                                                                                                                                                                                                                                                           |(19,[0,1,2,3,4,6,7,10],[2.2384631517416906,2.2384631517416906,2.2384631517416906,1.9398814947751575,1.9398814947751575,1.0986122886681096,1.0986122886681096,1.6582280766035324])                                                                                     |\n",
      "|109299864606732790|TheLordChiefRockaNumberOne|[pdont, buy, cinnamon, whiskey, shelf, ever, againp]                                                                                                                                                                                                                                                                                                                                                                                                                                                                                                                                                                                                                                                                                                                                                                                                                                                                                                                                                                                                                                                                                                                                                                                                             |(19,[18],[1.9459101490553132])                                                                                                                                                                                                                                        |\n",
      "|109329838685725360|nrcha                     |[pmans, kais, dom, ka, ka, vi, iziet, r, un, pc, bra, ienk, iek, tad, pasaule, noresetojas, un, var, atkal, dabt, pastp]                                                                                                                                                                                                                                                                                                                                                                                                                                                                                                                                                                                                                                                                                                                                                                                                                                                                                                                                                                                                                                                                                                                                         |(19,[10],[1.6582280766035324])                                                                                                                                                                                                                                        |\n",
      "|110204623802202652|bart                      |[bartgov, alertbrbrnormal, train, service, resumed, el, cerrito, plaza, station]                                                                                                                                                                                                                                                                                                                                                                                                                                                                                                                                                                                                                                                                                                                                                                                                                                                                                                                                                                                                                                                                                                                                                                                 |(19,[],[])                                                                                                                                                                                                                                                            |\n",
      "|109298463394608902|miunau                    |[ppublished, 130, bodyguard, pat, method, autonegotiates, jsonformtext, inputbr, , hrefhttpsgithubcomauth70bodyguard, relnofollow, noopener, noreferrer, translateno, target_blankspan, classinvisiblehttpsspanspan, classgithubcomauth70bodyguardspanspan, classinvisiblespanap]                                                                                                                                                                                                                                                                                                                                                                                                                                                                                                                                                                                                                                                                                                                                                                                                                                                                                                                                                                                |(19,[0,1,2,5,6,7,8,15],[0.5596157879354227,0.5596157879354227,0.5596157879354227,1.0986122886681096,1.0986122886681096,1.0986122886681096,1.4350845252893227,1.9459101490553132])                                                                                     |\n",
      "|109293603960414086|andybrwn                  |[pa, hrefhttpssfbasocialtagscalifornia, classmention, hashtag, relnofollow, noopener, noreferrer, target_blankspancaliforniaspana, public, utilities, commission, decision, 2312036, conditionally, approving, extended, operations, hrefhttpssfbasocialtagsdiablo, classmention, hashtag, relnofollow, noopener, noreferrer, target_blankspandiablospana, canyon, hrefhttpssfbasocialtagsnuclear, classmention, hashtag, relnofollow, noopener, noreferrer, target_blankspannuclearspana, , power, plant, pursuant, senate, bill, 846, signed, commission, december, 14, 2023, meetingppa, hrefhttpsdocscpuccagovsearchresaspxdocformatallampdocid521496276, relnofollow, noopener, noreferrer, translateno, target_blankspan, classinvisiblehttpsspanspan, classellipsisdocscpuccagovsearchresaspspanspan, classinvisiblexdocformatallampdocid521496276spanappa, hrefhttpssfbasocialtagsenergy, classmention, hashtag, relnofollow, noopener, noreferrer, target_blankspanenergyspana, , hrefhttpssfbasocialtagscaenergy, classmention, hashtag, relnofollow, noopener, noreferrer, target_blankspancaenergyspana, hrefhttpssfbasocialtagsnuclearpowerplant, classmention, hashtag, relnofollow, noopener, noreferrer, target_blankspannuclearpowerplantspanap]|(19,[0,1,2,3,4,5,6,7,8,9,13,16],[3.9173105155479586,3.9173105155479586,3.9173105155479586,3.879762989550315,3.879762989550315,2.197224577336219,1.0986122886681096,1.0986122886681096,1.4350845252893227,1.4350845252893227,1.9459101490553132,1.9459101490553132])   |\n",
      "|3691              |batterpunts               |[]                                                                                                                                                                                                                                                                                                                                                                                                                                                                                                                                                                                                                                                                                                                                                                                                                                                                                                                                                                                                                                                                                                                                                                                                                                                               |(19,[5],[1.0986122886681096])                                                                                                                                                                                                                                         |\n",
      "|109339225196294743|inarticulatequilter       |[pwhy, 15days, ive, put, must, stop, christmas, coming, howp]                                                                                                                                                                                                                                                                                                                                                                                                                                                                                                                                                                                                                                                                                                                                                                                                                                                                                                                                                                                                                                                                                                                                                                                                    |(19,[],[])                                                                                                                                                                                                                                                            |\n",
      "|108893250907576953|caranmegil                |[pa, hrefhttpsmastodonsocialtagsmydayinthreewords, classmention, hashtag, relnofollow, noopener, noreferrer, target_blankspanmydayinthreewordsspana, work, tired, mastersp]                                                                                                                                                                                                                                                                                                                                                                                                                                                                                                                                                                                                                                                                                                                                                                                                                                                                                                                                                                                                                                                                                      |(19,[0,1,2,3,4,9],[0.5596157879354227,0.5596157879354227,0.5596157879354227,0.6466271649250525,0.6466271649250525,1.4350845252893227])                                                                                                                                |\n",
      "|235685            |markov                    |[ooooo, aint, good]                                                                                                                                                                                                                                                                                                                                                                                                                                                                                                                                                                                                                                                                                                                                                                                                                                                                                                                                                                                                                                                                                                                                                                                                                                              |(19,[17],[1.9459101490553132])                                                                                                                                                                                                                                        |\n",
      "|27511             |floooh                    |[pinteresting, wrongp]                                                                                                                                                                                                                                                                                                                                                                                                                                                                                                                                                                                                                                                                                                                                                                                                                                                                                                                                                                                                                                                                                                                                                                                                                                           |(19,[],[])                                                                                                                                                                                                                                                            |\n",
      "+------------------+--------------------------+-----------------------------------------------------------------------------------------------------------------------------------------------------------------------------------------------------------------------------------------------------------------------------------------------------------------------------------------------------------------------------------------------------------------------------------------------------------------------------------------------------------------------------------------------------------------------------------------------------------------------------------------------------------------------------------------------------------------------------------------------------------------------------------------------------------------------------------------------------------------------------------------------------------------------------------------------------------------------------------------------------------------------------------------------------------------------------------------------------------------------------------------------------------------------------------------------------------------------------------------------------------------+----------------------------------------------------------------------------------------------------------------------------------------------------------------------------------------------------------------------------------------------------------------------+\n",
      "\n",
      "+------------------+----------------+----------------------------------------------------------------------------------------------------------------------------------------------------------------------------------------------------------------------------------------------------------------------------------------------------------------------------------------------------------------------------------------------------------------------------------------------------------------------------------------------------------------------------------------------------------------------------------------------------------------------------------------------------------------------------------------------------------------------------------------------------------------------------------------------------------------------------------------------------------------------------------------------------------------------------------------------------------------------------------------------------------------------+--------------------------------------------------------------------------------------------------------------------------------------------------------------------------------------------------------------------------------------------------------------------------------------------------------------------------------------------------------------------------------------------------------------------------------------------------------------------------------------------------------------------------------------------------------------------------------------------------------------------------------------------------------+\n",
      "|user_id           |username        |filtered_words                                                                                                                                                                                                                                                                                                                                                                                                                                                                                                                                                                                                                                                                                                                                                                                                                                                                                                                                                                                                        |features                                                                                                                                                                                                                                                                                                                                                                                                                                                                                                                                                                                                                                                |\n",
      "+------------------+----------------+----------------------------------------------------------------------------------------------------------------------------------------------------------------------------------------------------------------------------------------------------------------------------------------------------------------------------------------------------------------------------------------------------------------------------------------------------------------------------------------------------------------------------------------------------------------------------------------------------------------------------------------------------------------------------------------------------------------------------------------------------------------------------------------------------------------------------------------------------------------------------------------------------------------------------------------------------------------------------------------------------------------------+--------------------------------------------------------------------------------------------------------------------------------------------------------------------------------------------------------------------------------------------------------------------------------------------------------------------------------------------------------------------------------------------------------------------------------------------------------------------------------------------------------------------------------------------------------------------------------------------------------------------------------------------------------+\n",
      "|109837623232443191|CherokeeSher    |[pohio, abortion, clinics, ask, judge, block, abortion, ban, permanentlybr, hrefhttpswwwaolcomohioabortionclinicsaskjudge164700204html, target_blank, relnofollow, noopener, noreferrer, translatenospan, classinvisiblehttpswwwspanspan, classellipsisaolcomohioabortionclinicsspanspan, classinvisibleaskjudge164700204htmlspanappohio, abortion, clinics, asking, judge, strike, states, ban, abortions, voters, approved, issue, 1, novemberp]                                                                                                                                                                                                                                                                                                                                                                                                                                                                                                                                                                    |(45,[0,1,2,5,7,8],[0.4054651081081644,0.4054651081081644,0.4054651081081644,0.965080896043587,1.4350845252893227,1.4350845252893227])                                                                                                                                                                                                                                                                                                                                                                                                                                                                                                                   |\n",
      "|109865535296019572|CBCNews         |[phouthi, attacks, ships, red, sea, escalating, options, stop, limitedppattacks, ships, around, narrow, mouth, red, sea, increasing, yemens, houthi, militia, group, makes, good, warning, disrupt, global, trade, diplomatic, military, experts, say, may, little, anyone, hrefhttpspresscooptagspress, classmention, hashtag, relnofollow, noopener, noreferrer, target_blankspanpressspanappa, hrefhttpswwwcbccanewsworldhouthiattacksonshipsintheredseaareescalatingtheoptionstostopthemarelimited17060673cmprssamputm_sourcepresscoop, relnofollow, noopener, noreferrer, target_blankspan, classinvisiblehttpswwwspanspan, classellipsiscbccanewsworldhouthiattacspanspan, classinvisibleksonshipsintheredseaareescalatingtheoptionstostopthemarelimited17060673cmprssamputm_sourcepresscoopspanap]                                                                                                                                                                                                             |(45,[0,1,2,3,4,5,6,37,42],[0.8109302162163288,0.8109302162163288,0.8109302162163288,0.965080896043587,0.965080896043587,0.965080896043587,0.8472978603872037,1.9459101490553132,1.9459101490553132])                                                                                                                                                                                                                                                                                                                                                                                                                                                    |\n",
      "|110857787643262829|bankr_cases     |[pnew, filing, quotftx, trading, ltdquotbr, doc, 4744, , chapter, 11, monthly, operating, report, ust, form, 11morpppdf, hrefhttpswwwcourtlistenercomdocket657488214744ftxtradingltdredirect_or_modaltrue, target_blank, relnofollow, noopener, noreferrer, translatenospan, classinvisiblehttpswwwspanspan, classellipsiscourtlistenercomdocket65748spanspan, classinvisible8214744ftxtradingltdredirect_or_modaltruespanabr, docket, hrefhttpswwwcourtlistenercomdocket65748821ftxtradingltdorder_bydesc, target_blank, relnofollow, noopener, noreferrer, translatenospan, classinvisiblehttpswwwspanspan, classellipsiscourtlistenercomdocket65748spanspan, classinvisible821ftxtradingltdorder_bydescspanappa, hrefhttpsmastodonsocialtagscl65748821, classmention, hashtag, reltagspancl65748821spanap]                                                                                                                                                                                                         |(45,[0,1,2,3,4,5,7,8,9,10,12,13,14,15,16,18,19,20,21,22,23,24,25,26,27,28,30,31,32],[0.8109302162163288,0.8109302162163288,0.8109302162163288,0.965080896043587,0.965080896043587,1.930161792087174,2.8701690505786455,2.8701690505786455,1.252762968495368,3.316456153207065,1.6582280766035324,1.6582280766035324,1.6582280766035324,1.6582280766035324,1.6582280766035324,1.6582280766035324,1.6582280766035324,1.6582280766035324,1.6582280766035324,1.6582280766035324,1.6582280766035324,1.6582280766035324,1.6582280766035324,1.6582280766035324,1.6582280766035324,1.6582280766035324,1.6582280766035324,1.6582280766035324,1.6582280766035324])|\n",
      "|110928631947651750|avesbury_rosetta|[pits, like, slicing, 3d, model, every, orientation, oncep]                                                                                                                                                                                                                                                                                                                                                                                                                                                                                                                                                                                                                                                                                                                                                                                                                                                                                                                                                           |(45,[41],[1.9459101490553132])                                                                                                                                                                                                                                                                                                                                                                                                                                                                                                                                                                                                                          |\n",
      "|109506275701528564|cpm             |[pmombrwhat, normal, meanppoh, dear, sweet, child, says, mom, normal, setting, washerdryerppppthis, timeo, year, id, normally, skis, hemlock, rodedendron, white, pine, thicketbrgathering, fresh, white, pine, shoots, dry, amp, grind, pine, needle, cookies, good, moonins, knowppbutpp, , p]                                                                                                                                                                                                                                                                                                                                                                                                                                                                                                                                                                                                                                                                                                                      |(45,[9,37,38,43],[1.252762968495368,1.9459101490553132,1.9459101490553132,1.9459101490553132])                                                                                                                                                                                                                                                                                                                                                                                                                                                                                                                                                          |\n",
      "|109310140935078278|mz4250          |[ptoday, spawn, ackyishigal, theyre, nasty, minion, demon, lord, made, earlier, week, ppfree, stls, , hrefhttpswwwpatreoncomposts94678036, relnofollow, noopener, noreferrer, translateno, target_blankspan, classinvisiblehttpswwwspanspan, classpatreoncomposts94678036spanspan, classinvisiblespanappthese, tome, beasts, amazing, span, classhcard, translatenoa, hrefhttpsmastodonsocialkoboldpress, classuurl, mention, relnofollow, noopener, noreferrer, target_blankspankoboldpressspanaspan, , love, book, bra, hrefhttpsdicecamptagsttrpg, classmention, hashtag, relnofollow, noopener, noreferrer, target_blankspanttrpgspana, hrefhttpsdicecamptags3dprinting, classmention, hashtag, relnofollow, noopener, noreferrer, target_blankspan3dprintingspana, hrefhttpsdicecamptags3dmodeling, classmention, hashtag, relnofollow, noopener, noreferrer, target_blankspan3dmodelingspana, hrefhttpsdicecamptags3dart, classmention, hashtag, relnofollow, noopener, noreferrer, target_blankspan3dartspanap]|(45,[0,1,2,3,4,5,6,9,17,33,34,35,39,40,44],[2.4327906486489863,2.4327906486489863,2.4327906486489863,3.860323584174348,3.860323584174348,0.965080896043587,0.8472978603872037,2.505525936990736,1.6582280766035324,1.9459101490553132,1.9459101490553132,1.9459101490553132,1.9459101490553132,1.9459101490553132,1.9459101490553132])                                                                                                                                                                                                                                                                                                                  |\n",
      "|109828758079429668|Laird_Fumble    |[pspan, classhcard, translatenoa, hrefhttpsmastodonartaaribaud, classuurl, mention, relnofollow, noopener, noreferrer, target_blankspanaaribaudspanaspan, je, ne, tomberai, pas, dans, ton, pige, p]                                                                                                                                                                                                                                                                                                                                                                                                                                                                                                                                                                                                                                                                                                                                                                                                                  |(45,[0,1,2,33,34,35,38,39],[0.4054651081081644,0.4054651081081644,0.4054651081081644,1.9459101490553132,1.9459101490553132,1.9459101490553132,1.9459101490553132,1.9459101490553132])                                                                                                                                                                                                                                                                                                                                                                                                                                                                   |\n",
      "|110857787643262829|bankr_cases     |[pnew, filing, quotftx, trading, ltdquotbr, doc, 4739, , chapter, 11, monthly, operating, report, ust, form, 11morpppdf, hrefhttpswwwcourtlistenercomdocket657488214739ftxtradingltdredirect_or_modaltrue, target_blank, relnofollow, noopener, noreferrer, translatenospan, classinvisiblehttpswwwspanspan, classellipsiscourtlistenercomdocket65748spanspan, classinvisible8214739ftxtradingltdredirect_or_modaltruespanabr, docket, hrefhttpswwwcourtlistenercomdocket65748821ftxtradingltdorder_bydesc, target_blank, relnofollow, noopener, noreferrer, translatenospan, classinvisiblehttpswwwspanspan, classellipsiscourtlistenercomdocket65748spanspan, classinvisible821ftxtradingltdorder_bydescspanappa, hrefhttpsmastodonsocialtagscl65748821, classmention, hashtag, reltagspancl65748821spanap]                                                                                                                                                                                                         |(45,[0,1,2,3,4,5,7,8,9,10,12,13,14,15,16,18,19,20,21,22,23,24,25,26,27,28,30,31,32],[0.8109302162163288,0.8109302162163288,0.8109302162163288,0.965080896043587,0.965080896043587,1.930161792087174,2.8701690505786455,2.8701690505786455,1.252762968495368,3.316456153207065,1.6582280766035324,1.6582280766035324,1.6582280766035324,1.6582280766035324,1.6582280766035324,1.6582280766035324,1.6582280766035324,1.6582280766035324,1.6582280766035324,1.6582280766035324,1.6582280766035324,1.6582280766035324,1.6582280766035324,1.6582280766035324,1.6582280766035324,1.6582280766035324,1.6582280766035324,1.6582280766035324,1.6582280766035324])|\n",
      "|109322356034126429|drakakis        |[pthe, mystery, missing, binder, collection, raw, russian, intelligence, disappeared, trump, cnnppa, hrefhttpswwwcnncominteractive202312politicsmissingrussiaintelligencetrumpdg, relnofollow, noopener, noreferrer, translateno, target_blankspan, classinvisiblehttpswwwspanspan, classellipsiscnncominteractive202312pospanspan, classinvisibleliticsmissingrussiaintelligencetrumpdgspanappa, binder, containing, highly, classified, information, related, russian, election, interference, went, missing, end, donald, trumps, presidency, raising, alarms, among, intelligence, officialsp]                                                                                                                                                                                                                                                                                                                                                                                                                    |(45,[0,1,2,5,6,17],[0.4054651081081644,0.4054651081081644,0.4054651081081644,0.965080896043587,0.8472978603872037,1.6582280766035324])                                                                                                                                                                                                                                                                                                                                                                                                                                                                                                                  |\n",
      "|109287369350884105|eljefedsecurit  |[pbe, kind, home, machine, spirits, holiday, break, theyre, used, around, much, youre, workingp]                                                                                                                                                                                                                                                                                                                                                                                                                                                                                                                                                                                                                                                                                                                                                                                                                                                                                                                      |(45,[40,42],[1.9459101490553132,1.9459101490553132])                                                                                                                                                                                                                                                                                                                                                                                                                                                                                                                                                                                                    |\n",
      "|109345593721588326|DoctorWhoPN     |[pncuti, gatwa, says, infamous, line, netflixs, sex, educationbra, hrefhttpsyoutubeyrimp7bt95csisap1ft3amyinwrii, relnofollow, noopener, noreferrer, target_blankspan, classinvisiblehttpsspanspan, classellipsisyoutubeyrimp7bt95csisap1ftspanspan, classinvisible3amyinwriispanap]                                                                                                                                                                                                                                                                                                                                                                                                                                                                                                                                                                                                                                                                                                                                  |(45,[0,1,2,6,11,43],[0.4054651081081644,0.4054651081081644,0.4054651081081644,0.8472978603872037,1.252762968495368,1.9459101490553132])                                                                                                                                                                                                                                                                                                                                                                                                                                                                                                                 |\n",
      "|109283376847942605|angiebaby       |[pa, hrefhttpsyoutubewlheswhrhvssipqsfchjomktwq0f2, relnofollow, noopener, noreferrer, translateno, target_blankspan, classinvisiblehttpsspanspan, classellipsisyoutubewlheswhrhvssipqsfchspanspan, classinvisiblejomktwq0f2spanap]                                                                                                                                                                                                                                                                                                                                                                                                                                                                                                                                                                                                                                                                                                                                                                                   |(45,[0,1,2,6,11,17,36],[0.4054651081081644,0.4054651081081644,0.4054651081081644,0.8472978603872037,1.252762968495368,1.6582280766035324,1.9459101490553132])                                                                                                                                                                                                                                                                                                                                                                                                                                                                                           |\n",
      "|109795867116247265|mlbtraderumors  |[pguardians, designate, alfonso, rivas, assignment, hrefhttpswwwmlbtraderumorscom202312guardiansdfaalfonsorivashtmlutm_sourcetwitter, relnofollow, noopener, noreferrer, target_blankspan, classinvisiblehttpsspanspan, classmlbtraderumorscom202312guardispanspan, classinvisiblespanap]                                                                                                                                                                                                                                                                                                                                                                                                                                                                                                                                                                                                                                                                                                                             |(45,[0,1,2,6,11,29],[0.4054651081081644,0.4054651081081644,0.4054651081081644,0.8472978603872037,1.252762968495368,1.6582280766035324])                                                                                                                                                                                                                                                                                                                                                                                                                                                                                                                 |\n",
      "|110857787643262829|bankr_cases     |[pnew, filing, quotftx, trading, ltdquotbr, doc, 4741, , chapter, 11, monthly, operating, report, ust, form, 11morpppdf, hrefhttpswwwcourtlistenercomdocket657488214741ftxtradingltdredirect_or_modaltrue, target_blank, relnofollow, noopener, noreferrer, translatenospan, classinvisiblehttpswwwspanspan, classellipsiscourtlistenercomdocket65748spanspan, classinvisible8214741ftxtradingltdredirect_or_modaltruespanabr, docket, hrefhttpswwwcourtlistenercomdocket65748821ftxtradingltdorder_bydesc, target_blank, relnofollow, noopener, noreferrer, translatenospan, classinvisiblehttpswwwspanspan, classellipsiscourtlistenercomdocket65748spanspan, classinvisible821ftxtradingltdorder_bydescspanappa, hrefhttpsmastodonsocialtagscl65748821, classmention, hashtag, reltagspancl65748821spanap]                                                                                                                                                                                                         |(45,[0,1,2,3,4,5,7,8,9,10,12,13,14,15,16,18,19,20,21,22,23,24,25,26,27,28,30,31,32],[0.8109302162163288,0.8109302162163288,0.8109302162163288,0.965080896043587,0.965080896043587,1.930161792087174,2.8701690505786455,2.8701690505786455,1.252762968495368,3.316456153207065,1.6582280766035324,1.6582280766035324,1.6582280766035324,1.6582280766035324,1.6582280766035324,1.6582280766035324,1.6582280766035324,1.6582280766035324,1.6582280766035324,1.6582280766035324,1.6582280766035324,1.6582280766035324,1.6582280766035324,1.6582280766035324,1.6582280766035324,1.6582280766035324,1.6582280766035324,1.6582280766035324,1.6582280766035324])|\n",
      "|109913806086434023|Onan            |[pthat, doesnt, place, bag, shit, thats, heavyp]                                                                                                                                                                                                                                                                                                                                                                                                                                                                                                                                                                                                                                                                                                                                                                                                                                                                                                                                                                      |(45,[],[])                                                                                                                                                                                                                                                                                                                                                                                                                                                                                                                                                                                                                                              |\n",
      "|110765344642059492|DiMarzio        |[pa, hrefhttpstwittercomhashtagjuventus, classmention, hashtag, relnofollow, noopener, noreferrer, target_blankspanjuventusspana, hrefhttpstwittercomhashtagallegri, classmention, hashtag, relnofollow, noopener, noreferrer, target_blankspanallegrispana, vlahovic, e, chiesa, gol, li, hanno, trovati, allinizio, arriverannobra, hrefhttpsgianlucadimarziocomitjuveallegrigenoaintervistaprepartita15dicembre2023, relnofollow, noopener, noreferrer, target_blankspan, classinvisiblehttpsspanspan, classgianlucadimarziocomitjuveallegrspanspan, classinvisiblespanap]                                                                                                                                                                                                                                                                                                                                                                                                                                         |(45,[0,1,2,3,4,6,11,29,36],[1.2163953243244932,1.2163953243244932,1.2163953243244932,1.930161792087174,1.930161792087174,0.8472978603872037,1.252762968495368,1.6582280766035324,1.9459101490553132])                                                                                                                                                                                                                                                                                                                                                                                                                                                   |\n",
      "|109763394835401815|RobDemovsky     |[pmatt, lafleur, whether, aj, dillon, handle, ball, practice, whis, broken, thumb, kinda, working, right, well, see, athad, padded, pretty, goodppon, aaron, jones, progress, needed, todayppboth, listed, questionablep]                                                                                                                                                                                                                                                                                                                                                                                                                                                                                                                                                                                                                                                                                                                                                                                             |(45,[],[])                                                                                                                                                                                                                                                                                                                                                                                                                                                                                                                                                                                                                                              |\n",
      "|108087004443039266|roland          |[pich, bin, auch, fest, davon, berzeugt, dass, das, grne, wegschauen, mnchen, diese, konflikte, massiv, befeuert, und, den, rechten, massiv, stimmen, bringen, wird, von, leuten, die, es, nicht, abstrahieren, knnen, oder, wollen, grund, ist, die, nichtausweisung, von, lieferzonen, und, somit, der, absichtlich, herbeigefhrte, druck, durch, gewerbliche, lieferhandwerksfahrzeugep]                                                                                                                                                                                                                                                                                                                                                                                                                                                                                                                                                                                                                           |(45,[],[])                                                                                                                                                                                                                                                                                                                                                                                                                                                                                                                                                                                                                                              |\n",
      "|108961468869618213|spdrcstl        |[pthroat, feels, like, swallowed, glass, lolp]                                                                                                                                                                                                                                                                                                                                                                                                                                                                                                                                                                                                                                                                                                                                                                                                                                                                                                                                                                        |(45,[41],[1.9459101490553132])                                                                                                                                                                                                                                                                                                                                                                                                                                                                                                                                                                                                                          |\n",
      "|110112848858255616|dalter          |[pim, glad, advicebra, hrefhttpstwittercomhashtagleafs, classmention, hashtag, relnofollow, noopener, noreferrer, target_blankspanleafsspana, goalie, coach, curtis, sanford, talked, sheldon, keefe, pulling, ilya, samsonov, 50, question, comeback, ot, loss, enough, help, samsonov, reclaim, confidence, bra, hrefhttpsthehockeynewscomnhltorontomapleleafslatestnewsimgladthatwashisadvicemapleleafsgoaltendingcoachcurtissanfordtalkedsheldonkeefeoutofpullingilyasamsonovincomebackagainstbluejacketshttpsthehockeynewscomnhltorontomapleleafslatestnewsimgladthatwashisadvicemapleleafsgoaltendingcoachcurtissanfordtalkedsheldonkeefeoutofpullingilyasamsonovincomebackagainstbluejackets, relnofollow, noopener, noreferrer, target_blankspan, classinvisiblehttpsspanspan, classthehockeynewscomnhltorontomaspanspan, classinvisiblespanap]                                                                                                                                                               |(45,[0,1,2,3,4,6,11,29,44],[0.8109302162163288,0.8109302162163288,0.8109302162163288,0.965080896043587,0.965080896043587,0.8472978603872037,1.252762968495368,1.6582280766035324,1.9459101490553132])                                                                                                                                                                                                                                                                                                                                                                                                                                                   |\n",
      "+------------------+----------------+----------------------------------------------------------------------------------------------------------------------------------------------------------------------------------------------------------------------------------------------------------------------------------------------------------------------------------------------------------------------------------------------------------------------------------------------------------------------------------------------------------------------------------------------------------------------------------------------------------------------------------------------------------------------------------------------------------------------------------------------------------------------------------------------------------------------------------------------------------------------------------------------------------------------------------------------------------------------------------------------------------------------+--------------------------------------------------------------------------------------------------------------------------------------------------------------------------------------------------------------------------------------------------------------------------------------------------------------------------------------------------------------------------------------------------------------------------------------------------------------------------------------------------------------------------------------------------------------------------------------------------------------------------------------------------------+\n",
      "\n"
     ]
    },
    {
     "ename": "KeyboardInterrupt",
     "evalue": "",
     "output_type": "error",
     "traceback": [
      "\u001b[0;31m---------------------------------------------------------------------------\u001b[0m",
      "\u001b[0;31mKeyboardInterrupt\u001b[0m                         Traceback (most recent call last)",
      "Cell \u001b[0;32mIn[12], line 142\u001b[0m\n\u001b[1;32m    140\u001b[0m         \u001b[38;5;66;03m# Remove processed file\u001b[39;00m\n\u001b[1;32m    141\u001b[0m         os\u001b[38;5;241m.\u001b[39mremove(file_path)\n\u001b[0;32m--> 142\u001b[0m \u001b[43mtime\u001b[49m\u001b[38;5;241;43m.\u001b[39;49m\u001b[43msleep\u001b[49m\u001b[43m(\u001b[49m\u001b[38;5;241;43m300\u001b[39;49m\u001b[43m)\u001b[49m\n",
      "\u001b[0;31mKeyboardInterrupt\u001b[0m: "
     ]
    }
   ],
   "source": [
    "import numpy\n",
    "# Define an empty DataFrame to hold all the data\n",
    "aggregated_df = None\n",
    "\n",
    "\n",
    "# Function to process and aggregate content of a file\n",
    "# def process_and_aggregate(file_path):\n",
    "#     # df = spark_session.read.json(file_path)\n",
    "#     df = df.select(\n",
    "#         col(\"account.id\").alias(\"user_id\"),\n",
    "#         col(\"account.username\").alias(\"username\"),\n",
    "#         lower(regexp_replace(\"content\", \"[^\\\\w\\\\s]\", \"\")).alias(\"content\")\n",
    "#     )\n",
    "#     df = df.groupBy(\"user_id\", \"username\").agg(concat_ws(\" \", collect_list(\"content\")).alias(\"aggregated_content\"))\n",
    "#     return df\n",
    "    \n",
    "# while True:\n",
    "#     # Loop through files in the directory\n",
    "#     for filename in os.listdir('/opt/datalake'):\n",
    "#         file_path = os.path.join('/opt/datalake', filename)\n",
    "        \n",
    "#         # Check if the current object is a file\n",
    "#         if os.path.isfile(file_path):\n",
    "#             schema = StructType([\n",
    "#                 StructField(\"account\", StructType(\n",
    "#                     StructType([\n",
    "#                         StructField(\"id\", StringType(), True),\n",
    "#                         StructField(\"username\", StringType(), True)\n",
    "#                     ])\n",
    "#                 ), True),\n",
    "#                 StructField(\"content\", StringType(), True)\n",
    "#             ])\n",
    "\n",
    "#             # Create an empty DataFrame with the defined schema\n",
    "#             df = spark_session.createDataFrame([], schema)\n",
    "#             # Process and aggregate the file\n",
    "#             # Read the JSON file as a text file\n",
    "#             with open(file_path, \"r\", encoding=\"utf-8-sig\") as file:\n",
    "#                 file_content = file.read()\n",
    "            \n",
    "#             # Handle bad JSON files\n",
    "#             try:\n",
    "#                 json_array = json.loads(file_content)\n",
    "#             except json.JSONDecodeError as e:\n",
    "#                 print(f\"Error parsing file {file_path}: {e}\")\n",
    "#                 print(f\"File content: {file_content}\")\n",
    "#                 os.remove(file_path)\n",
    "#                 continue\n",
    "\n",
    "#             # Extract only the fields defined in the schema for each JSON object in the array\n",
    "#             filtered_objects = [\n",
    "#                 {field.name: json_object[field.name] for field in schema.fields}\n",
    "#                 for json_object in json_array\n",
    "#             ]\n",
    "\n",
    "#             # Convert the filtered JSON objects to PySpark Rows\n",
    "#             rows = [Row(**filtered_object) for filtered_object in filtered_objects]\n",
    "\n",
    "#             # Create a DataFrame with the rows and schema\n",
    "#             df = spark_session.createDataFrame(rows, schema)\n",
    "#             # df = process_and_aggregate(file_path)\n",
    "#             df = df.select(\n",
    "#                 col(\"account.id\").alias(\"user_id\"),\n",
    "#                 col(\"account.username\").alias(\"username\"),\n",
    "#                 lower(regexp_replace(\"content\", \"[^\\\\w\\\\s]\", \"\")).alias(\"content\")\n",
    "#             )\n",
    "#             df = df.groupBy(\"user_id\", \"username\").agg(concat_ws(\" \", collect_list(\"content\")).alias(\"aggregated_content\"))\n",
    "#             # Union the processed DataFrame with the aggregated DataFrame\n",
    "#             if aggregated_df is None:\n",
    "#                 aggregated_df = df\n",
    "#             else:\n",
    "#                 aggregated_df = aggregated_df.union(df)\n",
    "#             os.remove(file_path)\n",
    "    \n",
    "#     # Now perform the final aggregation across all files\n",
    "#     if aggregated_df is not None:\n",
    "#         final_df = aggregated_df.groupBy(\"user_id\", \"username\").agg(concat_ws(\" \", collect_list(\"aggregated_content\")).alias(\"final_aggregated_content\"))\n",
    "#         # final_df.show(2)\n",
    "#         # Tokenize the content\n",
    "#         tokenizer = Tokenizer(inputCol=\"final_aggregated_content\", outputCol=\"words\")\n",
    "#         wordsData = tokenizer.transform(final_df)\n",
    "#         # Remove stopwords\n",
    "#         remover = StopWordsRemover(inputCol=\"words\", outputCol=\"filtered_words\")\n",
    "#         wordsData = remover.transform(wordsData)\n",
    "        \n",
    "#         # Count the frequency of each word and filter out rare words\n",
    "#         cv = CountVectorizer(inputCol=\"filtered_words\", outputCol=\"cv_features\", minDF=2)\n",
    "#         cvModel = cv.fit(wordsData)\n",
    "#         filteredWordsData = cvModel.transform(wordsData)\n",
    "#         # filteredWordsData.show()\n",
    "#         # Compute TF-IDF\n",
    "#         idf = IDF(inputCol=\"cv_features\", outputCol=\"features\")\n",
    "#         idfModel = idf.fit(filteredWordsData)\n",
    "#         rescaledData = idfModel.transform(filteredWordsData)\n",
    "#         # rescaledData.show()\n",
    "#         # Select the required columns (user id, username, and features)\n",
    "#         tfidf_matrix = rescaledData.select(\"user_id\", \"username\", \"features\")\n",
    "#         tfidf_matrix.show(truncate=False)\n",
    "#         tfidf_matrix.write.mode(\"append\").parquet(\"opt/warehouse\")\n",
    "#     time.sleep(300)\n",
    "\n",
    "        \n",
    "while True:\n",
    "    for filename in os.listdir('/opt/datalake'):\n",
    "        file_path = os.path.join('/opt/datalake', filename)\n",
    "        \n",
    "        # Check if the current object is a file\n",
    "        if os.path.isfile(file_path):\n",
    "            # print(f\"Processing file: {file_path}\")\n",
    "            \n",
    "            df = spark_session.read.json(file_path)\n",
    "            df = df.select(col(\"account.id\").alias(\"user_id\"), \n",
    "                   col(\"account.username\").alias(\"username\"), \n",
    "                   lower(regexp_replace(\"content\", \"[^\\\\w\\\\s]\", \"\")).alias(\"content\"))\n",
    "            # df = df.groupBy(\"user_id\", \"username\").agg(concat_ws(\" \", collect_list(\"content\")).alias(\"aggregated_content\"))\n",
    "            # Drop missing values\n",
    "            df = df.na.drop(subset=[\"user_id\", \"username\", \"content\"])\n",
    "            # Tokenize the content\n",
    "            tokenizer = Tokenizer(inputCol=\"content\", outputCol=\"words\")\n",
    "            wordsData = tokenizer.transform(df)\n",
    "            \n",
    "            # Remove stopwords\n",
    "            remover = StopWordsRemover(inputCol=\"words\", outputCol=\"filtered_words\")\n",
    "            wordsData = remover.transform(wordsData)\n",
    "            \n",
    "            # Count the frequency of each word and filter out rare words\n",
    "            cv = CountVectorizer(inputCol=\"filtered_words\", outputCol=\"cv_features\", minDF=2)\n",
    "            cvModel = cv.fit(wordsData)\n",
    "            filteredWordsData = cvModel.transform(wordsData)\n",
    "            # filteredWordsData.show()\n",
    "            # Compute TF-IDF\n",
    "            idf = IDF(inputCol=\"cv_features\", outputCol=\"features\")\n",
    "            idfModel = idf.fit(filteredWordsData)\n",
    "            rescaledData = idfModel.transform(filteredWordsData)\n",
    "            # rescaledData.show()\n",
    "            # Select the required columns (user id, username, and features)\n",
    "            tfidf_matrix = rescaledData.select(\"user_id\", \"username\", \"filtered_words\", \"features\")\n",
    "            tfidf_matrix.show(truncate=False)\n",
    "            tfidf_matrix.write.mode(\"append\").parquet(\"opt/warehouse\")\n",
    "            # Remove processed file\n",
    "            os.remove(file_path)\n",
    "    time.sleep(300)\n"
   ]
  },
  {
   "cell_type": "code",
   "execution_count": 12,
   "id": "1cdac81d-9644-48d2-84d8-4884fbaae6a6",
   "metadata": {
    "tags": []
   },
   "outputs": [
    {
     "data": {
      "text/plain": [
       "DataFrame[value: string]"
      ]
     },
     "execution_count": 12,
     "metadata": {},
     "output_type": "execute_result"
    }
   ],
   "source": [
    "ayli"
   ]
  },
  {
   "cell_type": "markdown",
   "id": "bb9e96b5-b57b-43e9-8e67-fbb06b7ceaa7",
   "metadata": {},
   "source": [
    "# Spark grep"
   ]
  },
  {
   "cell_type": "code",
   "execution_count": 21,
   "id": "33b897d6-be9f-40ce-a4f7-b7d15bc732cf",
   "metadata": {
    "tags": []
   },
   "outputs": [],
   "source": [
    "orlandos_lines = ayli.filter(ayli.value.contains(\"Project\"))"
   ]
  },
  {
   "cell_type": "code",
   "execution_count": 22,
   "id": "ce6a5101-c556-41cd-91d4-6bbaf56404c7",
   "metadata": {
    "tags": []
   },
   "outputs": [
    {
     "name": "stdout",
     "output_type": "stream",
     "text": [
      "+--------------------+\n",
      "|               value|\n",
      "+--------------------+\n",
      "|The Project Guten...|\n",
      "|of the Project Gu...|\n",
      "|of this license, ...|\n",
      "|concept and trade...|\n",
      "|of the Project Gu...|\n",
      "|of derivative wor...|\n",
      "|To protect the Pr...|\n",
      "|(or any other wor...|\n",
      "|Project Gutenberg...|\n",
      "|Section 1. Genera...|\n",
      "+--------------------+\n",
      "only showing top 10 rows\n",
      "\n"
     ]
    }
   ],
   "source": [
    "orlandos_lines.show(n=10)"
   ]
  },
  {
   "cell_type": "markdown",
   "id": "a973ed6e-e9dd-48d3-8bed-f8cc8237cb67",
   "metadata": {},
   "source": [
    "# Term Frequency"
   ]
  },
  {
   "cell_type": "code",
   "execution_count": 23,
   "id": "426e9edd-b140-45a4-9d21-a10552c54e2b",
   "metadata": {
    "tags": []
   },
   "outputs": [],
   "source": [
    "from pyspark.sql.functions import explode, split\n",
    "wordCounts = ayli.select(explode(split(ayli.value, \"\\s+\")).alias(\"word\")).groupBy(\"word\").count()\n",
    "_coll = wordCounts.collect()"
   ]
  },
  {
   "cell_type": "code",
   "execution_count": 24,
   "id": "6261ceb4-c443-4f2a-adfd-ff42fc131b2f",
   "metadata": {
    "tags": []
   },
   "outputs": [
    {
     "name": "stdout",
     "output_type": "stream",
     "text": [
      "+----------+-----+\n",
      "|      word|count|\n",
      "+----------+-----+\n",
      "|    online|    4|\n",
      "|      some|   25|\n",
      "| disgrace,|    1|\n",
      "|      hope|    8|\n",
      "|     still|    5|\n",
      "|     those|    9|\n",
      "|        By|   19|\n",
      "|       art|   22|\n",
      "|   enough;|    1|\n",
      "| Monsieur,|    2|\n",
      "|    youth,|   11|\n",
      "|Princesse:|    1|\n",
      "|   embrace|    1|\n",
      "|     burs,|    1|\n",
      "|     cold,|    1|\n",
      "|   strait.|    1|\n",
      "|     1.Lo.|    1|\n",
      "|     Sword|    2|\n",
      "|    merrie|    1|\n",
      "| Spheares:|    1|\n",
      "+----------+-----+\n",
      "only showing top 20 rows\n",
      "\n"
     ]
    }
   ],
   "source": [
    "wordCounts.show()"
   ]
  },
  {
   "cell_type": "markdown",
   "id": "8796cdf1-e370-44d2-bbbd-75e0a2b9ecda",
   "metadata": {},
   "source": [
    "## Save as Parquet File\n",
    "https://spark.apache.org/docs/latest/sql-data-sources-parquet.html"
   ]
  },
  {
   "cell_type": "code",
   "execution_count": 25,
   "id": "39f6624c-c3dd-4c7d-9ce9-ecea5e4ef487",
   "metadata": {
    "tags": []
   },
   "outputs": [],
   "source": [
    "wordCounts.write.mode('overwrite').parquet('/opt/warehouse/wordcounts.parquet')"
   ]
  },
  {
   "cell_type": "markdown",
   "id": "973833a6-4b07-4aff-af97-5ff6df419b7d",
   "metadata": {},
   "source": [
    "## Read back Parquet data"
   ]
  },
  {
   "cell_type": "code",
   "execution_count": 26,
   "id": "76b59f6a-6d4e-43c3-8abd-7a496defb0cb",
   "metadata": {
    "tags": []
   },
   "outputs": [
    {
     "name": "stdout",
     "output_type": "stream",
     "text": [
      "+----------+-----+\n",
      "|      word|count|\n",
      "+----------+-----+\n",
      "|    online|    4|\n",
      "|      some|   25|\n",
      "| disgrace,|    1|\n",
      "|      hope|    8|\n",
      "|     still|    5|\n",
      "|     those|    9|\n",
      "|        By|   19|\n",
      "|       art|   22|\n",
      "|   enough;|    1|\n",
      "| Monsieur,|    2|\n",
      "|    youth,|   11|\n",
      "|Princesse:|    1|\n",
      "|   embrace|    1|\n",
      "|     burs,|    1|\n",
      "|     cold,|    1|\n",
      "|   strait.|    1|\n",
      "|     1.Lo.|    1|\n",
      "|     Sword|    2|\n",
      "|    merrie|    1|\n",
      "| Spheares:|    1|\n",
      "+----------+-----+\n",
      "only showing top 20 rows\n",
      "\n"
     ]
    }
   ],
   "source": [
    "wc2 = spark_session.read.parquet('/opt/warehouse/wordcounts.parquet/')\n",
    "wc2.show()"
   ]
  },
  {
   "cell_type": "markdown",
   "id": "5569fdc2-9ca2-4697-b489-f9c0f29e6b0f",
   "metadata": {},
   "source": [
    "### Enable SQL-querying\n",
    "Create a temp-view from wc2 with name \"wordcounts\" so we can reference that as a table name in subsequent SQL queries."
   ]
  },
  {
   "cell_type": "code",
   "execution_count": 29,
   "id": "2cbde442-e27f-4120-8a3d-2b646fe02fad",
   "metadata": {
    "tags": []
   },
   "outputs": [
    {
     "name": "stdout",
     "output_type": "stream",
     "text": [
      "+----------+-----+\n",
      "|      word|count|\n",
      "+----------+-----+\n",
      "|   Project|   79|\n",
      "|     would|   65|\n",
      "|Gutenberg™|   53|\n",
      "|     shall|   53|\n",
      "|     Enter|   52|\n",
      "|     which|   50|\n",
      "|     there|   39|\n",
      "|    should|   34|\n",
      "|     these|   32|\n",
      "|     their|   31|\n",
      "|     other|   28|\n",
      "|electronic|   27|\n",
      "|    cannot|   27|\n",
      "|    better|   26|\n",
      "|  Rosalind|   25|\n",
      "|     neuer|   24|\n",
      "|     could|   23|\n",
      "|     works|   23|\n",
      "|    thinke|   23|\n",
      "|     beare|   22|\n",
      "+----------+-----+\n",
      "only showing top 20 rows\n",
      "\n"
     ]
    }
   ],
   "source": [
    "wc2.createOrReplaceTempView(\"wordcounts\")\n",
    "\n",
    "ans = spark_session.sql(\"SELECT * FROM wordcounts WHERE LEN(word) > 4 ORDER BY count DESC\")\n",
    "ans.show()"
   ]
  },
  {
   "cell_type": "code",
   "execution_count": 30,
   "id": "56f92ac3-5ec9-455b-b9a7-6cfe45f498bd",
   "metadata": {
    "tags": []
   },
   "outputs": [],
   "source": [
    "ans.limit(10).write.json('/opt/warehouse/answer.json')"
   ]
  },
  {
   "cell_type": "code",
   "execution_count": 31,
   "id": "2a6ca5ed-f6c1-4cf6-973f-4b8fb8717d55",
   "metadata": {
    "tags": []
   },
   "outputs": [],
   "source": [
    "list_of_dicts = ans.limit(10).rdd.map(lambda row: row.asDict()).collect()\n"
   ]
  },
  {
   "cell_type": "markdown",
   "id": "4d476c5c-cb5f-48ea-89c2-3214150680e1",
   "metadata": {},
   "source": [
    "# Close Session\n",
    "This shuts down the executors running on the workers and relinquishes cluster resources associated with this app."
   ]
  },
  {
   "cell_type": "code",
   "execution_count": 32,
   "id": "5426c84e-d519-4e83-83fa-502cdaceb44c",
   "metadata": {
    "tags": []
   },
   "outputs": [],
   "source": [
    "spark_session.stop()"
   ]
  },
  {
   "cell_type": "code",
   "execution_count": null,
   "id": "db0b59cf-52b4-4732-8e2f-3c950527780d",
   "metadata": {},
   "outputs": [],
   "source": []
  }
 ],
 "metadata": {
  "kernelspec": {
   "display_name": "Python 3 (ipykernel)",
   "language": "python",
   "name": "python3"
  },
  "language_info": {
   "codemirror_mode": {
    "name": "ipython",
    "version": 3
   },
   "file_extension": ".py",
   "mimetype": "text/x-python",
   "name": "python",
   "nbconvert_exporter": "python",
   "pygments_lexer": "ipython3",
   "version": "3.10.6"
  }
 },
 "nbformat": 4,
 "nbformat_minor": 5
}
